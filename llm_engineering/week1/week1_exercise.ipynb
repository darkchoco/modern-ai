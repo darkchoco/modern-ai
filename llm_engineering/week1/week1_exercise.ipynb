{
 "cells": [
  {
   "cell_type": "markdown",
   "id": "fe12c203-e6a6-452c-a655-afb8a03a4ff5",
   "metadata": {},
   "source": [
    "# End of week 1 exercise\n",
    "\n",
    "To demonstrate your familiarity with OpenAI API, and also Ollama, build a tool that takes a technical question,  \n",
    "and responds with an explanation. This is a tool that you will be able to use yourself during the course!"
   ]
  },
  {
   "cell_type": "code",
   "id": "4a456906-915a-4bfd-bb9d-57e505c5093f",
   "metadata": {
    "ExecuteTime": {
     "end_time": "2025-06-26T14:56:40.420929Z",
     "start_time": "2025-06-26T14:56:39.625843Z"
    }
   },
   "source": [
    "import os\n",
    "from dotenv import load_dotenv\n",
    "from openai import OpenAI\n",
    "from IPython.display import Markdown, display, update_display\n",
    "import ollama\n",
    "\n",
    "MODEL_GPT = 'gpt-4o-mini'\n",
    "MODEL_LLAMA = 'llama3.2'"
   ],
   "outputs": [],
   "execution_count": 10
  },
  {
   "cell_type": "code",
   "id": "a8d7923c-5f28-4c30-8556-342d7c8497c1",
   "metadata": {
    "ExecuteTime": {
     "end_time": "2025-06-26T14:42:55.541333Z",
     "start_time": "2025-06-26T14:42:54.616640Z"
    }
   },
   "source": [
    "# set up environment\n",
    "\n",
    "load_dotenv(override=True)\n",
    "api_key = os.getenv('OPENAI_API_KEY')\n",
    "\n",
    "if api_key and api_key.startswith('sk-proj-') and len(api_key)>10:\n",
    "    print(\"API key looks good so far\")\n",
    "else:\n",
    "    print(\"There might be a problem with your API key? Please visit the troubleshooting notebook!\")\n",
    "\n",
    "openai = OpenAI()"
   ],
   "outputs": [
    {
     "name": "stdout",
     "output_type": "stream",
     "text": [
      "API key looks good so far\n"
     ]
    }
   ],
   "execution_count": 2
  },
  {
   "metadata": {
    "ExecuteTime": {
     "end_time": "2025-06-26T14:43:17.754096Z",
     "start_time": "2025-06-26T14:43:17.749848Z"
    }
   },
   "cell_type": "code",
   "source": [
    "system_prompt = \"You are an expert that analyzes the python code. \\\n",
    "Answer the questions in a way that is to the point and not too long.\""
   ],
   "id": "b6a6635ad6cf8881",
   "outputs": [],
   "execution_count": 3
  },
  {
   "metadata": {
    "ExecuteTime": {
     "end_time": "2025-06-26T14:43:21.674929Z",
     "start_time": "2025-06-26T14:43:21.671528Z"
    }
   },
   "cell_type": "code",
   "source": [
    "# here is the question; type over this to ask something new\n",
    "\n",
    "question = \"\"\"\n",
    "Please explain what this code does and why in Korean:\n",
    "yield from {book.get(\"author\") for book in books if book.get(\"author\")}\n",
    "\"\"\""
   ],
   "id": "3f0d0137-52b0-47a8-81a8-11a90a010798",
   "outputs": [],
   "execution_count": 4
  },
  {
   "cell_type": "code",
   "id": "60ce7000-a4a5-4cce-a261-e75ef45063b4",
   "metadata": {
    "ExecuteTime": {
     "end_time": "2025-06-26T14:43:30.553446Z",
     "start_time": "2025-06-26T14:43:30.548857Z"
    }
   },
   "source": [
    "# Get gpt-4o-mini to answer, with streaming\n",
    "def stream_explain():\n",
    "    stream = openai.chat.completions.create(\n",
    "        model=MODEL_GPT,\n",
    "        messages=[\n",
    "            {\"role\": \"system\", \"content\": system_prompt},\n",
    "            {\"role\": \"user\", \"content\": question},\n",
    "        ],\n",
    "        stream=True\n",
    "    )\n",
    "\n",
    "    response = \"\"\n",
    "    # Markdown(\"\"): 빈 마크다운 객체를 생성 (초기에는 빈 내용)\n",
    "    # display_id=True: 이 출력에 고유한 ID를 부여해서 나중에 업데이트할 수 있게 함\n",
    "    display_handle = display(Markdown(\"\"), display_id=True)\n",
    "    for chunk in stream:\n",
    "        response += chunk.choices[0].delta.content or ''  # 새로운 텍스트 조각 누적\n",
    "        response = response.replace(\"```\",\"\").replace(\"markdown\", \"\")  # 마크다운 코드 블록 제거\n",
    "        update_display(Markdown(response), display_id=display_handle.display_id)"
   ],
   "outputs": [],
   "execution_count": 5
  },
  {
   "metadata": {
    "ExecuteTime": {
     "end_time": "2025-06-26T14:43:40.705280Z",
     "start_time": "2025-06-26T14:43:37.205818Z"
    }
   },
   "cell_type": "code",
   "source": "stream_explain()",
   "id": "6c20843eb5881b07",
   "outputs": [
    {
     "data": {
      "text/plain": [
       "<IPython.core.display.Markdown object>"
      ],
      "text/markdown": "이 코드는 `books`라는 목록에서 각 책 객체의 저자 정보를 추출하여 생성하는 제너레이터 표현식입니다. \n\n1. `{book.get(\"author\") for book in books if book.get(\"author\")}`: 이 부분은 저자가 있는 책의 저자 이름을 집합(set)으로 만듭니다. 집합을 사용함으로써 중복된 저자 이름은 제거됩니다.\n2. `yield from`: 이 구문은 생성자 함수에서 다른 생성자나 이터레이터의 값을 순차적으로 반환합니다. \n\n결과적으로 이 코드는 `books` 목록의 모든 책에서 저자를 추출하여 중복 없이 저자 목록을 생성하는 역할을 합니다."
     },
     "metadata": {},
     "output_type": "display_data"
    }
   ],
   "execution_count": 6
  },
  {
   "cell_type": "code",
   "id": "8f7c8ea8-4082-4ad0-8751-3301adcf6538",
   "metadata": {
    "ExecuteTime": {
     "end_time": "2025-06-26T15:02:05.963042Z",
     "start_time": "2025-06-26T15:02:05.957867Z"
    }
   },
   "source": [
    "# Get Llama 3.2 to answer\n",
    "def normal_explain():\n",
    "    response = ollama.chat(\n",
    "        model=MODEL_LLAMA,\n",
    "        messages=[\n",
    "            {\"role\": \"system\", \"content\": system_prompt},\n",
    "            {\"role\": \"user\", \"content\": question},\n",
    "        ],\n",
    "    )\n",
    "    result = response['message']['content']\n",
    "    display(Markdown(result))"
   ],
   "outputs": [],
   "execution_count": 22
  },
  {
   "metadata": {
    "ExecuteTime": {
     "end_time": "2025-06-26T15:02:17.318728Z",
     "start_time": "2025-06-26T15:02:07.465311Z"
    }
   },
   "cell_type": "code",
   "source": "normal_explain()",
   "id": "f4b50b2472671df6",
   "outputs": [
    {
     "data": {
      "text/plain": [
       "<IPython.core.display.Markdown object>"
      ],
      "text/markdown": "**해석:**\n\n이 코드는 livro서의 저자 정보를 가져오고, livro서의 정보를 순환합니다.\n\n* `yield from`는 서브루틴 안에서 다른 루outine의 결과물을 순환하도록 하는 명령입니다.\n* `{book.get(\"author\") for book in books if book.get(\"author\")}`는 list comprehension으로 책의 author 정보를 가져오고, 만약 author가 없는 경우이든 or author 정보를 가져올 수 없는 경우이든 Then 그 Book을 무시합니다. \n\n예를 들어:\n\n* `books`에는 [{\"title\": \"책1\", \"author\": \"저자1\"}, {\"title\": \"책2\", \"author\": \"\"}, {\"title\": \"책3\", \"author\": \"저자2\"}]这样的 book 정보가 있습니다.\n* 이 코드는 author 정보가 있는 book을 순환합니다. \n\n**사용 예:**\n\n```\ndef fetch_authors(books):\n    yield from {book.get(\"author\") for book in books if book.get(\"author\")}\n    \nbooks = [{\"title\": \"책1\", \"author\": \"저자1\"}, {\"title\": \"책2\", \"author\": \"\"}, {\"title\": \"책3\", \"author\": \"저자2\"}]\nfor author in fetch_authors(books):\n    print(author)\n```"
     },
     "metadata": {},
     "output_type": "display_data"
    }
   ],
   "execution_count": 23
  }
 ],
 "metadata": {
  "kernelspec": {
   "display_name": "Python 3 (ipykernel)",
   "language": "python",
   "name": "python3"
  },
  "language_info": {
   "codemirror_mode": {
    "name": "ipython",
    "version": 3
   },
   "file_extension": ".py",
   "mimetype": "text/x-python",
   "name": "python",
   "nbconvert_exporter": "python",
   "pygments_lexer": "ipython3",
   "version": "3.11.11"
  }
 },
 "nbformat": 4,
 "nbformat_minor": 5
}
